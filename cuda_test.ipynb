{
 "cells": [
  {
   "cell_type": "markdown",
   "id": "d77adf98",
   "metadata": {},
   "source": [
    "#### 1. Check if CUDA is available in PyTorch"
   ]
  },
  {
   "cell_type": "code",
   "execution_count": 1,
   "id": "80184102",
   "metadata": {},
   "outputs": [
    {
     "name": "stdout",
     "output_type": "stream",
     "text": [
      "CUDA available: True\n",
      "Current device: 0\n",
      "GPU name: NVIDIA GeForce RTX 5080 Laptop GPU\n"
     ]
    }
   ],
   "source": [
    "import torch\n",
    "\n",
    "# Check if CUDA (GPU support) is available\n",
    "print(\"CUDA available:\", torch.cuda.is_available())\n",
    "\n",
    "# Check the current device being used\n",
    "print(\"Current device:\", torch.cuda.current_device())\n",
    "\n",
    "# Get the name of the GPU\n",
    "print(\"GPU name:\", torch.cuda.get_device_name(0))  # 0 is the device index"
   ]
  },
  {
   "cell_type": "markdown",
   "id": "e03fe772",
   "metadata": {},
   "source": [
    "#### 2. Check where tensors are allocated"
   ]
  },
  {
   "cell_type": "code",
   "execution_count": 2,
   "id": "78cf3fe4",
   "metadata": {},
   "outputs": [
    {
     "name": "stdout",
     "output_type": "stream",
     "text": [
      "Tensor device: cpu\n"
     ]
    }
   ],
   "source": [
    "x = torch.randn(3, 3)\n",
    "print(\"Tensor device:\", x.device)  # Output: 'cpu' or 'cuda:0'"
   ]
  },
  {
   "cell_type": "markdown",
   "id": "ce6bd5a7",
   "metadata": {},
   "source": [
    "#### 3. Verify PyTorch installation details"
   ]
  },
  {
   "cell_type": "code",
   "execution_count": 3,
   "id": "15594da9",
   "metadata": {},
   "outputs": [
    {
     "name": "stdout",
     "output_type": "stream",
     "text": [
      "2.7.1+cu128\n",
      "12.8\n",
      "90701\n"
     ]
    }
   ],
   "source": [
    "print(torch.__version__)          # PyTorch version\n",
    "print(torch.version.cuda)         # CUDA version PyTorch was compiled with\n",
    "print(torch.backends.cudnn.version())  # cuDNN version"
   ]
  },
  {
   "cell_type": "markdown",
   "id": "a2566d02",
   "metadata": {},
   "source": [
    "#### 4. Test GPU vs. CPU performance"
   ]
  },
  {
   "cell_type": "code",
   "execution_count": 4,
   "id": "b04ebb88",
   "metadata": {},
   "outputs": [
    {
     "name": "stdout",
     "output_type": "stream",
     "text": [
      "CPU time: 2.7043495178222656\n",
      "GPU time: 0.2511274814605713\n"
     ]
    }
   ],
   "source": [
    "import time\n",
    "\n",
    "# CPU test\n",
    "start = time.time()\n",
    "a = torch.randn(10000, 10000)\n",
    "b = torch.randn(10000, 10000)\n",
    "c = a @ b\n",
    "print(\"CPU time:\", time.time() - start)\n",
    "\n",
    "# GPU test (if available)\n",
    "if torch.cuda.is_available():\n",
    "    start = time.time()\n",
    "    a = a.to('cuda')\n",
    "    b = b.to('cuda')\n",
    "    c = a @ b\n",
    "    print(\"GPU time:\", time.time() - start)\n",
    "else:\n",
    "    print(\"CUDA not available, using CPU only.\")"
   ]
  }
 ],
 "metadata": {
  "kernelspec": {
   "display_name": "base",
   "language": "python",
   "name": "python3"
  },
  "language_info": {
   "codemirror_mode": {
    "name": "ipython",
    "version": 3
   },
   "file_extension": ".py",
   "mimetype": "text/x-python",
   "name": "python",
   "nbconvert_exporter": "python",
   "pygments_lexer": "ipython3",
   "version": "3.13.5"
  }
 },
 "nbformat": 4,
 "nbformat_minor": 5
}
